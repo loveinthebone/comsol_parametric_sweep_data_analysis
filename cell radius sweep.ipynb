{
 "cells": [
  {
   "cell_type": "code",
   "execution_count": 1,
   "metadata": {},
   "outputs": [],
   "source": [
    "import time\n",
    "timestr = time.strftime(\"%Y%m%d-%H%M%S\")\n",
    "import matplotlib\n",
    "import matplotlib.pyplot as plt\n",
    "import numpy as np\n",
    "import scipy as scipy\n",
    "from scipy import optimize\n",
    "from matplotlib.ticker import AutoMinorLocator\n",
    "from matplotlib import gridspec\n",
    "import matplotlib.ticker as ticker\n",
    "%matplotlib inline\n"
   ]
  },
  {
   "cell_type": "code",
   "execution_count": 2,
   "metadata": {},
   "outputs": [],
   "source": [
    "# #gap size sweep\n",
    "\n",
    "# fd_gap = open('test6_gap size sweep from 2 um to 50 um.txt','r') #---------------------------------------need to set--------\n",
    "\n",
    "# d = np.loadtxt(fd_gap,\n",
    "#            comments='%',delimiter=None)\n",
    "# fd.close()\n",
    "\n",
    "# arg=(np.arange(2,7,1), np.arange(7.5,16,2.5), np.arange(20,51,5)) #make the gap size array\n",
    "# gap=np.concatenate(arg)\n",
    "# sweep_para=gap#---------------------------------------------------------need to set-------------------------------------------"
   ]
  },
  {
   "cell_type": "code",
   "execution_count": 3,
   "metadata": {},
   "outputs": [],
   "source": [
    "# #cell length sweep\n",
    "\n",
    "# fd_length = open('test7_cell length sweep from 3 to 200 mm2.txt','r') #---------------------------------------need to set--------\n",
    "\n",
    "# d = np.loadtxt(fd_length,\n",
    "#            comments='%',delimiter=None)\n",
    "# fd.close()\n",
    "\n",
    "# arg=([3], np.arange(5,201,5)) #make the gap size array\n",
    "# length=np.concatenate(arg)\n",
    "# sweep_para=length#---------------------------------------------------------need to set-------------------------------------------"
   ]
  },
  {
   "cell_type": "code",
   "execution_count": 4,
   "metadata": {},
   "outputs": [],
   "source": [
    "# cell radius sweep\n",
    "\n",
    "fd = open('For the paper cell radius sweep.txt','r')   \n",
    "#fd = open('test9_cell inner radius sweep from 50 to 1200 um.txt','r')   \n",
    "\n",
    "d = np.loadtxt(fd,\n",
    "           comments='%',delimiter=None)\n",
    "fd.close()\n",
    "\n",
    "arg=np.arange(51,1200,100) #sweep parameter\n",
    "sweep_para=arg\n"
   ]
  },
  {
   "cell_type": "code",
   "execution_count": 5,
   "metadata": {},
   "outputs": [],
   "source": [
    "#print(len(gap), len(d))\n",
    "\n",
    "# Data=([])\n",
    "# Data[0]=d[532:536]\n",
    "# Data[0]=d[0:40]\n",
    "\n",
    "\n",
    "dataset=np.split(d,len(sweep_para),axis=0) #data sets of different gap size\n",
    "#print(dataset[2])\n",
    "\n",
    "def extract1array(dataset,num): #extract a set of data array\n",
    "    test=dataset[num] #one set of data\n",
    "    x_array=test[:,0]\n",
    "    y_array=test[:,1]\n",
    "    return (x_array, y_array)\n",
    "#print(x_array[3])\n",
    "#print(len(dataset)): 16"
   ]
  },
  {
   "cell_type": "code",
   "execution_count": 6,
   "metadata": {},
   "outputs": [],
   "source": [
    "#reference paper: acoustic quality factor and energy losses in cylinderical pipes.pdf\n",
    "\n",
    "def resonance(f, C, f0, r):\n",
    "    return C/np.sqrt((f**2-f0**2)**2+(r*f)**2)\n",
    "\n",
    "f0=1950 #central frequency in Hz\n",
    "r=200*np.pi #estimated resonance width \n",
    "C=2e6*np.pi # amplitude factor, which is decided by F/m\n",
    "p0=[C,f0,r]\n"
   ]
  },
  {
   "cell_type": "code",
   "execution_count": 7,
   "metadata": {},
   "outputs": [],
   "source": [
    "def get_data(x_array,y_array,p0):\n",
    "    \n",
    "    popt, pcov = scipy.optimize.curve_fit(resonance, x_array, y_array, p0, bounds=([0,1000,0], [2e7,8000,1e4]),maxfev=5000)\n",
    "\n",
    "    perr = np.sqrt(np.diag(pcov))\n",
    "\n",
    "    residual = y_array - (resonance(x_array, *popt))\n",
    "\n",
    "    #print(popt)\n",
    "    pars_1 = popt[0] #C\n",
    "    pars_2 = popt[1] #peak frequency f0\n",
    "    pars_3 = popt[2] #resonance width r\n",
    "\n",
    "    freq=pars_2\n",
    "    Q=pars_2/pars_3 # Q factor\n",
    "    Amp=pars_1/(pars_3*pars_2)# peak vibration amplitude\n",
    "    #print(popt)\n",
    "    return [freq,Amp,Q]\n"
   ]
  },
  {
   "cell_type": "code",
   "execution_count": 8,
   "metadata": {},
   "outputs": [],
   "source": [
    "# results=[]\n",
    "# [x_array, y_array]=extract1array(dataset,2)\n",
    "# [freq,Amp,Q]=get_data(x_array,y_array,p0)\n",
    "# results=([freq,Amp,Q])\n",
    "\n",
    "# print(results)\n",
    "\n",
    "results=[]\n",
    "for i in range(0,len(dataset),1):\n",
    "    #print(i)\n",
    "    [x_array, y_array]=extract1array(dataset,i)\n",
    "    [freq,Amp,Q]=get_data(x_array,y_array,p0)\n",
    "    results.append([freq, Amp, Q])\n",
    "\n",
    "results=np.array(results)    \n",
    "#print(results)\n",
    "#print(results[:,1])\n",
    "\n",
    "#print(results)\n",
    "    \n",
    "    "
   ]
  },
  {
   "cell_type": "code",
   "execution_count": 9,
   "metadata": {},
   "outputs": [
    {
     "data": {
      "image/png": "[encoded data removed]",
      "text/plain": [
       "<Figure size 216x216 with 3 Axes>"
      ]
     },
     "metadata": {
      "needs_background": "light"
     },
     "output_type": "display_data"
    }
   ],
   "source": [
    "#%matplotlib notebook\n",
    "\n",
    "fig = plt.figure(figsize=(3,3))\n",
    "\n",
    "gs = gridspec.GridSpec(3,1, height_ratios=[1,1,1])\n",
    "ax1 = fig.add_subplot(gs[0])\n",
    "ax2 = fig.add_subplot(gs[1])\n",
    "ax3 = fig.add_subplot(gs[2])\n",
    "gs.update(hspace=0, wspace=0) \n",
    "\n",
    "\n",
    "#freq\n",
    "ax1.plot(sweep_para, results[:,0], \"r.\",markersize=2)\n",
    "# Amp\n",
    "ax2.plot(sweep_para, results[:,1], \"b.\",markersize=2)\n",
    "# Q\n",
    "ax3.plot(sweep_para, results[:,2], \"k.\",markersize=2)   \n",
    "\n",
    "\n",
    "\n",
    "# ax1.set_ylim(1800,2100)\n",
    "\n",
    "# ax2.set_ylim(0,2)\n",
    "\n",
    "ax3.set_xlim(0,1250)\n",
    "\n",
    "# ax3.set_xlabel(\"gap size (\\u03BCm)\",family=\"serif\",  fontsize=12)#---------------------------------------------------------need to set---\n",
    "ax3.set_xlabel(\"Cell radius (\\u03BCm)\",family=\"serif\", fontsize=8)#---------------------------------------------------------need to set---\n",
    "ax1.set_ylabel(\"Freq (Hz)\",family=\"serif\", fontsize=8)\n",
    "ax2.set_ylabel(\"Amp (nm)\",family=\"serif\", fontsize=8)\n",
    "ax3.set_ylabel(\"Q factor\",family=\"serif\", fontsize=8)\n",
    "\n",
    "\n",
    "\n",
    "ax1.tick_params(axis='x',which='major', direction=\"in\", bottom=\"on\", length=4, labelbottom=False, labelsize=6)\n",
    "ax1.tick_params(axis='y',which='major', direction=\"in\", right=\"on\", length=4, labelsize=6, labelleft=True)\n",
    "#ax1.tick_params(axis='y',which='minor', direction=\"in\", left=\"on\", length=2, )\n",
    "\n",
    "\n",
    "ax2.tick_params(axis='x',which='major', direction=\"in\", bottom=\"on\", length=4, labelbottom=False, labelsize=6)\n",
    "ax2.tick_params(axis='y',which='major', direction=\"in\", right=\"on\", length=4, labelsize=6, labelleft=True)\n",
    "\n",
    "ax3.tick_params(axis='x',which='major', direction=\"in\", bottom=\"on\", length=4, labelbottom=True, labelsize=6)\n",
    "ax3.tick_params(axis='y',which='major', direction=\"in\", right=\"on\", length=4, labelsize=6, labelleft=True)\n",
    "\n",
    "fig.tight_layout()\n",
    "\n",
    "fig.savefig(timestr+\"Cell radius sweep.png\", format=\"png\",dpi=300)\n",
    "plt.show()\n"
   ]
  },
  {
   "cell_type": "code",
   "execution_count": null,
   "metadata": {},
   "outputs": [],
   "source": []
  }
 ],
 "metadata": {
  "kernelspec": {
   "display_name": "Python 3",
   "language": "python",
   "name": "python3"
  },
  "language_info": {
   "codemirror_mode": {
    "name": "ipython",
    "version": 3
   },
   "file_extension": ".py",
   "mimetype": "text/x-python",
   "name": "python",
   "nbconvert_exporter": "python",
   "pygments_lexer": "ipython3",
   "version": "3.7.3"
  }
 },
 "nbformat": 4,
 "nbformat_minor": 2
}
